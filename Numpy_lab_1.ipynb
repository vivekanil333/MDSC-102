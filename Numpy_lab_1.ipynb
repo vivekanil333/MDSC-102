{
 "cells": [
  {
   "cell_type": "code",
   "execution_count": 1,
   "id": "7636163b",
   "metadata": {},
   "outputs": [],
   "source": [
    "import numpy as np\n"
   ]
  },
  {
   "cell_type": "code",
   "execution_count": null,
   "id": "7c034003",
   "metadata": {},
   "outputs": [],
   "source": []
  },
  {
   "cell_type": "code",
   "execution_count": 2,
   "id": "e3e7006a",
   "metadata": {},
   "outputs": [
    {
     "name": "stdout",
     "output_type": "stream",
     "text": [
      "[1 2 3 4 5]\n",
      "<class 'numpy.ndarray'>\n"
     ]
    }
   ],
   "source": [
    "import numpy as np\n",
    "arr=np.array([1,2,3,4,5])\n",
    "print(arr)\n",
    "print(type(arr))"
   ]
  },
  {
   "cell_type": "markdown",
   "id": "04af812f",
   "metadata": {},
   "source": [
    "create a numpy ndarray object,the array object in numpy is called as ndarray"
   ]
  },
  {
   "cell_type": "code",
   "execution_count": 3,
   "id": "74b2b64d",
   "metadata": {},
   "outputs": [
    {
     "name": "stdout",
     "output_type": "stream",
     "text": [
      "[1 2 3 4 5]\n",
      "<class 'numpy.ndarray'>\n"
     ]
    }
   ],
   "source": [
    "import numpy as np\n",
    "sai=np.array([1,2,3,4,5])\n",
    "print(sai)\n",
    "print(type(sai))"
   ]
  },
  {
   "cell_type": "markdown",
   "id": "94bf8047",
   "metadata": {},
   "source": [
    "we can use a tuple to create a numpy array"
   ]
  },
  {
   "cell_type": "code",
   "execution_count": 4,
   "id": "d45554ab",
   "metadata": {},
   "outputs": [
    {
     "name": "stdout",
     "output_type": "stream",
     "text": [
      "[1 2 3 4 5]\n"
     ]
    }
   ],
   "source": [
    "import numpy as np\n",
    "arr=np.array((1,2,3,4,5))\n",
    "print(arr)"
   ]
  },
  {
   "cell_type": "markdown",
   "id": "622d923c",
   "metadata": {},
   "source": [
    "we can create a 0-D ARRAY WITH THE VALUE 42"
   ]
  },
  {
   "cell_type": "code",
   "execution_count": 5,
   "id": "11d1988b",
   "metadata": {},
   "outputs": [
    {
     "name": "stdout",
     "output_type": "stream",
     "text": [
      "42\n"
     ]
    }
   ],
   "source": [
    "import numpy as np\n",
    "arr=np.array(42)\n",
    "print(arr)"
   ]
  },
  {
   "cell_type": "markdown",
   "id": "0c02eee8",
   "metadata": {},
   "source": [
    "we can create a 1-D array containingf the values 1,2,3,4,5"
   ]
  },
  {
   "cell_type": "code",
   "execution_count": 6,
   "id": "a460b0fd",
   "metadata": {},
   "outputs": [
    {
     "name": "stdout",
     "output_type": "stream",
     "text": [
      "[1 2 3 4 5]\n"
     ]
    }
   ],
   "source": [
    "import numpy as np\n",
    "arr=np.array([1,2,3,4,5])\n",
    "print(arr)"
   ]
  },
  {
   "cell_type": "markdown",
   "id": "2c06c9ab",
   "metadata": {},
   "source": [
    "An array that has 1-d arrays as its elements is called a 2-D array,they are often used to represent the matrix or the order tensors"
   ]
  },
  {
   "cell_type": "code",
   "execution_count": 8,
   "id": "be70293d",
   "metadata": {},
   "outputs": [
    {
     "name": "stdout",
     "output_type": "stream",
     "text": [
      "[[1 2 3]\n",
      " [4 5 6]]\n",
      "<class 'numpy.ndarray'>\n"
     ]
    }
   ],
   "source": [
    "import numpy as np\n",
    "arr=np.array([[1,2,3],[4,5,6]])\n",
    "print(arr)\n",
    "print(type(arr))"
   ]
  },
  {
   "cell_type": "code",
   "execution_count": 10,
   "id": "623f7163",
   "metadata": {},
   "outputs": [
    {
     "name": "stdout",
     "output_type": "stream",
     "text": [
      "[[4 5 6]\n",
      " [7 8 9]]\n"
     ]
    }
   ],
   "source": [
    "arr=np.array([[4,5,6],[7,8,9]])\n",
    "print(arr)"
   ]
  },
  {
   "cell_type": "markdown",
   "id": "e2428e1b",
   "metadata": {},
   "source": [
    "An array that has 2-d arrys matrices as its elements is called an 3-d array"
   ]
  },
  {
   "cell_type": "code",
   "execution_count": 11,
   "id": "ab58cde5",
   "metadata": {},
   "outputs": [
    {
     "name": "stdout",
     "output_type": "stream",
     "text": [
      "[[[2 3 4]\n",
      "  [7 8 9]]\n",
      "\n",
      " [[1 2 3]\n",
      "  [4 5 6]]]\n"
     ]
    }
   ],
   "source": [
    "arr=np.array([[[2,3,4],[7,8,9]],[[1,2,3],[4,5,6]]])\n",
    "print(arr)"
   ]
  },
  {
   "cell_type": "markdown",
   "id": "7509fd85",
   "metadata": {},
   "source": [
    "numpy arrays provides the ndim attribute that returns as an integer that tells us how many dimension the array has"
   ]
  },
  {
   "cell_type": "code",
   "execution_count": 12,
   "id": "d0d07707",
   "metadata": {},
   "outputs": [
    {
     "name": "stdout",
     "output_type": "stream",
     "text": [
      "0\n",
      "1\n",
      "2\n",
      "3\n"
     ]
    }
   ],
   "source": [
    "a=np.array(43)\n",
    "b=np.array([1,2,3,4]) #one dimension\n",
    "c=np.array([[1,2,3],[4,5,6]]) # two dimension\n",
    "d=np.array([[[1,2,3],[4,5,6]],[[1,2,3],[4,5,6]]]) #three dimension\n",
    "print(a.ndim)\n",
    "print(b.ndim)\n",
    "print(c.ndim)\n",
    "print(d.ndim)"
   ]
  },
  {
   "cell_type": "markdown",
   "id": "15b54673",
   "metadata": {},
   "source": [
    "we can create 5 dimensional array and verify that it has 5 dimensions"
   ]
  },
  {
   "cell_type": "code",
   "execution_count": 16,
   "id": "d5f6f437",
   "metadata": {},
   "outputs": [
    {
     "name": "stdout",
     "output_type": "stream",
     "text": [
      "[[[[[1 2 3 4]]]]]\n",
      "number of dimension : 5\n"
     ]
    }
   ],
   "source": [
    "arr=np.array([1,2,3,4],ndmin=5) #ndmin helps us to create the array of desired dimension\n",
    "print(arr)\n",
    "print('number of dimension :',arr.ndim)"
   ]
  },
  {
   "cell_type": "markdown",
   "id": "5910ddfb",
   "metadata": {},
   "source": [
    "we can acess the array elements ,it is also known as array indexing we van access an array element by referring to its index number,the indexes in the numpy array starts with 0 "
   ]
  },
  {
   "cell_type": "code",
   "execution_count": 18,
   "id": "e54bafce",
   "metadata": {},
   "outputs": [
    {
     "name": "stdout",
     "output_type": "stream",
     "text": [
      "1\n"
     ]
    }
   ],
   "source": [
    "arr=np.array([1,2,3,4])\n",
    "print(arr[0])"
   ]
  },
  {
   "cell_type": "code",
   "execution_count": 19,
   "id": "4bf54725",
   "metadata": {},
   "outputs": [
    {
     "name": "stdout",
     "output_type": "stream",
     "text": [
      "2\n"
     ]
    }
   ],
   "source": [
    "arr=np.array([1,2,3,4])\n",
    "print(arr[1])"
   ]
  },
  {
   "cell_type": "code",
   "execution_count": 20,
   "id": "1d9529ae",
   "metadata": {},
   "outputs": [
    {
     "name": "stdout",
     "output_type": "stream",
     "text": [
      "7\n"
     ]
    }
   ],
   "source": [
    "arr=np.array([1,2,3,4])\n",
    "print(arr[2]+arr[3])"
   ]
  },
  {
   "cell_type": "markdown",
   "id": "38fc67a2",
   "metadata": {},
   "source": [
    "Access the 2d arrays elements we can use the comma seperated integers representing the dimension and the index of the element,think of the 2 d arry as the dimension so that dimension represent the row and index represent the columns"
   ]
  },
  {
   "cell_type": "code",
   "execution_count": 22,
   "id": "d53af201",
   "metadata": {},
   "outputs": [
    {
     "name": "stdout",
     "output_type": "stream",
     "text": [
      "second element on the first row: 2\n"
     ]
    }
   ],
   "source": [
    "arr=np.array([[1,2,3,4,5],[6,7,8,9,10]]) #2d array\n",
    "print(\"second element on the first row:\",arr[0,1])"
   ]
  },
  {
   "cell_type": "markdown",
   "id": "8c179c78",
   "metadata": {},
   "source": [
    "access the element on the second row 2nd row 5th column"
   ]
  },
  {
   "cell_type": "code",
   "execution_count": 24,
   "id": "5dd340e6",
   "metadata": {},
   "outputs": [
    {
     "name": "stdout",
     "output_type": "stream",
     "text": [
      "get the fifth element in the second row 10\n"
     ]
    }
   ],
   "source": [
    "arr=np.array([[1,2,3,4,5],[6,7,8,9,10]]) # this is a 2d array\n",
    "print(\"get the fifth element in the second row\",arr[1,4]) #it is acessing the element from the index four i row 2"
   ]
  },
  {
   "cell_type": "code",
   "execution_count": 29,
   "id": "45b6ee6e",
   "metadata": {},
   "outputs": [
    {
     "name": "stdout",
     "output_type": "stream",
     "text": [
      "6\n",
      "12\n",
      "10\n",
      "9\n"
     ]
    }
   ],
   "source": [
    "arr=np.array([[[1,2,3],[4,5,6]],[[7,8,9],[10,11,12]]])\n",
    "#now we need to acess the third element of second array of the first array\n",
    "print(arr[0,1,2])\n",
    "print(arr[1,1,2])\n",
    "print(arr[1,1,0])\n",
    "print(arr[1,0,2])"
   ]
  },
  {
   "cell_type": "markdown",
   "id": "c48f86c8",
   "metadata": {},
   "source": [
    "we can use the negetive indexing from the 2nd dim\n"
   ]
  },
  {
   "cell_type": "code",
   "execution_count": 31,
   "id": "4bd0b189",
   "metadata": {},
   "outputs": [
    {
     "name": "stdout",
     "output_type": "stream",
     "text": [
      "last element from the 2nd dimension 9\n"
     ]
    }
   ],
   "source": [
    "arr=np.array([[1,2,3,4,5],[6,7,8,9,10]])\n",
    "print(\"last element from the 2nd dimension\",arr[1,-2])"
   ]
  },
  {
   "cell_type": "markdown",
   "id": "d4eee121",
   "metadata": {},
   "source": [
    "slicing the array:slice the elements index from 1 to index 5\n"
   ]
  },
  {
   "cell_type": "code",
   "execution_count": 38,
   "id": "e4207d0c",
   "metadata": {},
   "outputs": [
    {
     "name": "stdout",
     "output_type": "stream",
     "text": [
      "-5.5\n",
      "-4.333333333333333\n",
      "-3.1666666666666665\n",
      "-2.0\n",
      "-0.833333333333333\n",
      "0.3333333333333339\n",
      "1.5\n",
      "2.666666666666668\n",
      "3.833333333333334\n",
      "5.0\n"
     ]
    }
   ],
   "source": [
    "for i in np.linspace(-5.5,5,10):\n",
    "    print(i)"
   ]
  },
  {
   "cell_type": "code",
   "execution_count": 39,
   "id": "cbc161d5",
   "metadata": {},
   "outputs": [
    {
     "name": "stdout",
     "output_type": "stream",
     "text": [
      "[10.         10.05263158 10.10526316 10.15789474 10.21052632 10.26315789\n",
      " 10.31578947 10.36842105 10.42105263 10.47368421 10.52631579 10.57894737\n",
      " 10.63157895 10.68421053 10.73684211 10.78947368 10.84210526 10.89473684\n",
      " 10.94736842 11.        ]\n",
      "0.05263157894736842\n"
     ]
    }
   ],
   "source": [
    "for i in np.linspace(10,11,20,retstep=True):\n",
    "    print(i) #suppose if you want to get the numbers between 10 and 11 and if you want to get 20 numbers between them"
   ]
  },
  {
   "cell_type": "code",
   "execution_count": 40,
   "id": "9eb6b5ec",
   "metadata": {},
   "outputs": [
    {
     "name": "stdout",
     "output_type": "stream",
     "text": [
      "(array([  0.        ,   2.02020202,   4.04040404,   6.06060606,\n",
      "         8.08080808,  10.1010101 ,  12.12121212,  14.14141414,\n",
      "        16.16161616,  18.18181818,  20.2020202 ,  22.22222222,\n",
      "        24.24242424,  26.26262626,  28.28282828,  30.3030303 ,\n",
      "        32.32323232,  34.34343434,  36.36363636,  38.38383838,\n",
      "        40.4040404 ,  42.42424242,  44.44444444,  46.46464646,\n",
      "        48.48484848,  50.50505051,  52.52525253,  54.54545455,\n",
      "        56.56565657,  58.58585859,  60.60606061,  62.62626263,\n",
      "        64.64646465,  66.66666667,  68.68686869,  70.70707071,\n",
      "        72.72727273,  74.74747475,  76.76767677,  78.78787879,\n",
      "        80.80808081,  82.82828283,  84.84848485,  86.86868687,\n",
      "        88.88888889,  90.90909091,  92.92929293,  94.94949495,\n",
      "        96.96969697,  98.98989899, 101.01010101, 103.03030303,\n",
      "       105.05050505, 107.07070707, 109.09090909, 111.11111111,\n",
      "       113.13131313, 115.15151515, 117.17171717, 119.19191919,\n",
      "       121.21212121, 123.23232323, 125.25252525, 127.27272727,\n",
      "       129.29292929, 131.31313131, 133.33333333, 135.35353535,\n",
      "       137.37373737, 139.39393939, 141.41414141, 143.43434343,\n",
      "       145.45454545, 147.47474747, 149.49494949, 151.51515152,\n",
      "       153.53535354, 155.55555556, 157.57575758, 159.5959596 ,\n",
      "       161.61616162, 163.63636364, 165.65656566, 167.67676768,\n",
      "       169.6969697 , 171.71717172, 173.73737374, 175.75757576,\n",
      "       177.77777778, 179.7979798 , 181.81818182, 183.83838384,\n",
      "       185.85858586, 187.87878788, 189.8989899 , 191.91919192,\n",
      "       193.93939394, 195.95959596, 197.97979798, 200.        ]), 2.0202020202020203)\n"
     ]
    }
   ],
   "source": [
    "x=np.linspace(0,200,100,retstep=True)\n",
    "print(x)"
   ]
  },
  {
   "cell_type": "code",
   "execution_count": 41,
   "id": "307ffc5e",
   "metadata": {},
   "outputs": [
    {
     "name": "stdout",
     "output_type": "stream",
     "text": [
      "[0.  0.5 1.  1.5 2.  2.5 3.  3.5 4.  4.5]\n"
     ]
    }
   ],
   "source": [
    "x=np.linspace(0,5,10,endpoint=False) #endpoint to false omits the end value\n",
    "print(x)"
   ]
  },
  {
   "cell_type": "markdown",
   "id": "bf0aa30d",
   "metadata": {},
   "source": [
    "initialize an array using the function"
   ]
  },
  {
   "cell_type": "code",
   "execution_count": 43,
   "id": "a6a75041",
   "metadata": {},
   "outputs": [
    {
     "data": {
      "text/plain": [
       "array([[ 0.,  0.,  0.],\n",
       "       [ 0.,  2.,  4.],\n",
       "       [ 0.,  4.,  8.],\n",
       "       [ 0.,  6., 12.]])"
      ]
     },
     "execution_count": 43,
     "metadata": {},
     "output_type": "execute_result"
    }
   ],
   "source": [
    "def f(i,j):\n",
    "    return 2*i*j\n",
    "np.fromfunction(f,(4,3))\n",
    "np.fromfunction(lambda i,j:2*i*j,(4,3))\n"
   ]
  },
  {
   "cell_type": "code",
   "execution_count": 48,
   "id": "83861c2a",
   "metadata": {},
   "outputs": [
    {
     "data": {
      "text/plain": [
       "(2, 3)"
      ]
     },
     "execution_count": 48,
     "metadata": {},
     "output_type": "execute_result"
    }
   ],
   "source": [
    "a=np.array(((1,2,3,),(5,6,7,)))\n",
    "a.shape   # 2 rows and 3 columns"
   ]
  },
  {
   "cell_type": "code",
   "execution_count": 51,
   "id": "cc28fbb1",
   "metadata": {},
   "outputs": [
    {
     "name": "stdout",
     "output_type": "stream",
     "text": [
      "[[[ 1  2]\n",
      "  [ 3  4]]\n",
      "\n",
      " [[ 5  6]\n",
      "  [ 7  8]]\n",
      "\n",
      " [[ 9 10]\n",
      "  [89 79]]]\n",
      "(3, 2, 2)\n"
     ]
    }
   ],
   "source": [
    "a=np.array([[[1,2],[3,4]],[[5,6],[7,8]],[[9,10],[89,79]]])\n",
    "a.shape\n",
    "print(a)\n",
    "print(a.shape) #three matrix(tuples) of 2 rows and 2 columns"
   ]
  },
  {
   "cell_type": "code",
   "execution_count": 58,
   "id": "dc4b9ba7",
   "metadata": {},
   "outputs": [
    {
     "name": "stdout",
     "output_type": "stream",
     "text": [
      "[1. 2. 3. 4. 5.]\n"
     ]
    }
   ],
   "source": [
    "x=np.linspace(1,5,5)\n",
    "x**3\n",
    "print(x)"
   ]
  },
  {
   "cell_type": "code",
   "execution_count": 59,
   "id": "fc6a0444",
   "metadata": {},
   "outputs": [
    {
     "data": {
      "text/plain": [
       "array([ 0.        ,  0.98431873,  0.48771645, -0.59340065, -0.98842844])"
      ]
     },
     "execution_count": 59,
     "metadata": {},
     "output_type": "execute_result"
    }
   ],
   "source": [
    "y=np.exp(-np.linspace(0,2,5))\n",
    "np.sin(x-y)"
   ]
  },
  {
   "cell_type": "markdown",
   "id": "4328d072",
   "metadata": {},
   "source": [
    "marix multiplication numpy\n"
   ]
  },
  {
   "cell_type": "code",
   "execution_count": 2,
   "id": "cfe91b23",
   "metadata": {},
   "outputs": [
    {
     "data": {
      "text/plain": [
       "array([[1, 4],\n",
       "       [4, 1]])"
      ]
     },
     "execution_count": 2,
     "metadata": {},
     "output_type": "execute_result"
    }
   ],
   "source": [
    "import numpy as np\n",
    "a=np.array(((1,2),(2,1)))\n",
    "b=a\n",
    "a*b #elementwisw multiplication"
   ]
  },
  {
   "cell_type": "code",
   "execution_count": 5,
   "id": "f4cb6a03",
   "metadata": {},
   "outputs": [
    {
     "data": {
      "text/plain": [
       "array([[5, 4],\n",
       "       [4, 5]])"
      ]
     },
     "execution_count": 5,
     "metadata": {},
     "output_type": "execute_result"
    }
   ],
   "source": [
    "np.matmul(a,b)\n",
    "a.dot(b)\n"
   ]
  },
  {
   "cell_type": "markdown",
   "id": "249da31e",
   "metadata": {},
   "source": [
    "comparison and logical operations"
   ]
  },
  {
   "cell_type": "code",
   "execution_count": 6,
   "id": "76807057",
   "metadata": {},
   "outputs": [
    {
     "data": {
      "text/plain": [
       "array([ 5,  8, 11])"
      ]
     },
     "execution_count": 6,
     "metadata": {},
     "output_type": "execute_result"
    }
   ],
   "source": [
    "a=np.array([[1,2,3],[2,3,4]])\n",
    "b=np.array([1,2])\n",
    "np.dot(b,a)"
   ]
  },
  {
   "cell_type": "code",
   "execution_count": 7,
   "id": "8762e74b",
   "metadata": {},
   "outputs": [
    {
     "data": {
      "text/plain": [
       "array([[False, False, False],\n",
       "       [False, False, False]])"
      ]
     },
     "execution_count": 7,
     "metadata": {},
     "output_type": "execute_result"
    }
   ],
   "source": [
    "a>100"
   ]
  },
  {
   "cell_type": "markdown",
   "id": "dad66cf2",
   "metadata": {},
   "source": [
    "Numpy special values nan and inf\n",
    "numpy defines two special values to represent the outcomes of calculation which are not mathematically defined or finite the value np.nan represents the oucome of the calculations which is not defined np.inf represents the infinity"
   ]
  },
  {
   "cell_type": "code",
   "execution_count": 11,
   "id": "d6731498",
   "metadata": {},
   "outputs": [
    {
     "ename": "IndexError",
     "evalue": "only integers, slices (`:`), ellipsis (`...`), numpy.newaxis (`None`) and integer or boolean arrays are valid indices",
     "output_type": "error",
     "traceback": [
      "\u001b[1;31m---------------------------------------------------------------------------\u001b[0m",
      "\u001b[1;31mIndexError\u001b[0m                                Traceback (most recent call last)",
      "Cell \u001b[1;32mIn[11], line 8\u001b[0m\n\u001b[0;32m      5\u001b[0m i,j\u001b[38;5;241m=\u001b[39m\u001b[38;5;241m0\u001b[39m,N\u001b[38;5;241m/\u001b[39m\u001b[38;5;241m2\u001b[39m\n\u001b[0;32m      7\u001b[0m \u001b[38;5;28;01mwhile\u001b[39;00m n\u001b[38;5;241m<\u001b[39m\u001b[38;5;241m=\u001b[39mN\u001b[38;5;241m*\u001b[39m\u001b[38;5;241m*\u001b[39m\u001b[38;5;241m2\u001b[39m:\n\u001b[1;32m----> 8\u001b[0m     \u001b[43mmsquare\u001b[49m\u001b[43m[\u001b[49m\u001b[43mi\u001b[49m\u001b[43m,\u001b[49m\u001b[43mj\u001b[49m\u001b[43m]\u001b[49m\u001b[38;5;241m=\u001b[39mn\n\u001b[0;32m      9\u001b[0m     n \u001b[38;5;241m+\u001b[39m\u001b[38;5;241m=\u001b[39m\u001b[38;5;241m1\u001b[39m\n\u001b[0;32m     10\u001b[0m     newi, newj \u001b[38;5;241m=\u001b[39m (i\u001b[38;5;241m-\u001b[39m\u001b[38;5;241m1\u001b[39m)\u001b[38;5;241m%\u001b[39mN, (j\u001b[38;5;241m+\u001b[39m\u001b[38;5;241m1\u001b[39m)\u001b[38;5;241m%\u001b[39mN\n",
      "\u001b[1;31mIndexError\u001b[0m: only integers, slices (`:`), ellipsis (`...`), numpy.newaxis (`None`) and integer or boolean arrays are valid indices"
     ]
    }
   ],
   "source": [
    "#creating an NxN magic square N must be odd\n",
    "N=5\n",
    "msquare=np.zeros((N,N),dtype=int)\n",
    "n=1\n",
    "i,j=0,N/2\n",
    "\n",
    "while n<=N**2:\n",
    "    msquare[i,j]=n\n",
    "    n +=1\n",
    "    newi, newj = (i-1)%N, (j+1)%N\n",
    "    if msquare[newi,newj]:\n",
    "        i +=1\n",
    "    else:\n",
    "        i, j = newi, newj\n",
    "msquare\n",
    "\n"
   ]
  },
  {
   "cell_type": "markdown",
   "id": "f529fe88",
   "metadata": {},
   "source": [
    "flatten and ravel\n",
    "flatten returns as independent copy of the elements and is generally slower than flattened array"
   ]
  },
  {
   "cell_type": "code",
   "execution_count": 14,
   "id": "b476466e",
   "metadata": {},
   "outputs": [
    {
     "name": "stdout",
     "output_type": "stream",
     "text": [
      "[[[1 2 3]\n",
      "  [4 5 6]\n",
      "  [7 8 9]]\n",
      "\n",
      " [[1 2 3]\n",
      "  [4 5 6]\n",
      "  [7 8 9]]]\n"
     ]
    }
   ],
   "source": [
    "a=np.array([[[1,2,3],[4,5,6],[7,8,9]],[[1,2,3],[4,5,6],[7,8,9]]])\n",
    "b=a.flatten() #create a independent,flatten copy of a\n",
    "print(a)"
   ]
  },
  {
   "cell_type": "code",
   "execution_count": 15,
   "id": "e9241043",
   "metadata": {},
   "outputs": [
    {
     "data": {
      "text/plain": [
       "array([1, 2, 3, 0, 5, 6, 7, 8, 9, 1, 2, 3, 4, 5, 6, 7, 8, 9])"
      ]
     },
     "execution_count": 15,
     "metadata": {},
     "output_type": "execute_result"
    }
   ],
   "source": [
    "b[3]=0\n",
    "b"
   ]
  },
  {
   "cell_type": "code",
   "execution_count": 16,
   "id": "6721c586",
   "metadata": {},
   "outputs": [
    {
     "data": {
      "text/plain": [
       "array([[[1, 2, 3],\n",
       "        [4, 5, 6],\n",
       "        [7, 8, 9]],\n",
       "\n",
       "       [[1, 2, 3],\n",
       "        [4, 5, 6],\n",
       "        [7, 8, 9]]])"
      ]
     },
     "execution_count": 16,
     "metadata": {},
     "output_type": "execute_result"
    }
   ],
   "source": [
    "a"
   ]
  },
  {
   "cell_type": "code",
   "execution_count": 17,
   "id": "a087e31c",
   "metadata": {},
   "outputs": [
    {
     "data": {
      "text/plain": [
       "array([1, 2, 3, 4, 5, 6, 7, 8, 9, 1, 2, 3, 4, 5, 6, 7, 8, 9])"
      ]
     },
     "execution_count": 17,
     "metadata": {},
     "output_type": "execute_result"
    }
   ],
   "source": [
    "c=a.ravel()\n",
    "c"
   ]
  },
  {
   "cell_type": "markdown",
   "id": "e897ec4b",
   "metadata": {},
   "source": [
    "flatten"
   ]
  },
  {
   "cell_type": "code",
   "execution_count": 18,
   "id": "88fd12b9",
   "metadata": {},
   "outputs": [
    {
     "name": "stdout",
     "output_type": "stream",
     "text": [
      "the original array is [[1 2 3 4]\n",
      " [3 1 4 2]]\n",
      "the flattened array after the process [1 2 3 4 3 1 4 2]\n"
     ]
    }
   ],
   "source": [
    "a=np.array([(1,2,3,4),(3,1,4,2)])\n",
    "print(\"the original array is\",a)\n",
    "c=a.flatten() #convert into 1-d array\n",
    "print(\"the flattened array after the process\",c)"
   ]
  },
  {
   "cell_type": "markdown",
   "id": "ea031572",
   "metadata": {},
   "source": [
    "ravel()"
   ]
  },
  {
   "cell_type": "code",
   "execution_count": 3,
   "id": "cded75d7",
   "metadata": {},
   "outputs": [
    {
     "name": "stdout",
     "output_type": "stream",
     "text": [
      "the original array is [[1 2 3 4]\n",
      " [3 1 4 2]]\n",
      "the flattened array using the rave function is [1 2 3 4 3 1 4 2]\n"
     ]
    }
   ],
   "source": [
    "a=np.array([(1,2,3,4),(3,1,4,2)])\n",
    "print(\"the original array is\",a)\n",
    "ra=np.ravel(a) #This demonstrates that ravel() returns a shallow copy of the Numpy input array.\n",
    "print(\"the flattened array using the rave function is\",ra)"
   ]
  },
  {
   "cell_type": "markdown",
   "id": "5e075dea",
   "metadata": {},
   "source": [
    "resize and reshape\n",
    "resize is the inverse method to flatten\n"
   ]
  },
  {
   "cell_type": "code",
   "execution_count": 4,
   "id": "3161ef91",
   "metadata": {},
   "outputs": [
    {
     "data": {
      "text/plain": [
       "array([1., 2., 3., 4., 5., 6., 7., 8.])"
      ]
     },
     "execution_count": 4,
     "metadata": {},
     "output_type": "execute_result"
    }
   ],
   "source": [
    "a=np.linspace(1,8,8)\n",
    "a"
   ]
  },
  {
   "cell_type": "code",
   "execution_count": 5,
   "id": "53f70088",
   "metadata": {},
   "outputs": [
    {
     "data": {
      "text/plain": [
       "array([[[1., 2.],\n",
       "        [3., 4.]],\n",
       "\n",
       "       [[5., 6.],\n",
       "        [7., 8.]]])"
      ]
     },
     "execution_count": 5,
     "metadata": {},
     "output_type": "execute_result"
    }
   ],
   "source": [
    "a.resize(2,2,2)#reshapes a in place doesnt return anything\n",
    "a"
   ]
  },
  {
   "cell_type": "code",
   "execution_count": 8,
   "id": "8469319d",
   "metadata": {},
   "outputs": [
    {
     "data": {
      "text/plain": [
       "array([[1, 2],\n",
       "       [3, 4],\n",
       "       [1, 2]])"
      ]
     },
     "execution_count": 8,
     "metadata": {},
     "output_type": "execute_result"
    }
   ],
   "source": [
    "a=np.array([[1,2,],[3,4]])\n",
    "i=np.resize(a,(3,2))\n",
    "i \n"
   ]
  },
  {
   "cell_type": "markdown",
   "id": "5b25b2fb",
   "metadata": {},
   "source": [
    "reshape method  reshape does ot return the original array but return the changed array"
   ]
  },
  {
   "cell_type": "code",
   "execution_count": 11,
   "id": "c7eed4bb",
   "metadata": {},
   "outputs": [
    {
     "name": "stdout",
     "output_type": "stream",
     "text": [
      "Original array:\n"
     ]
    },
    {
     "data": {
      "text/plain": [
       "array([1, 2, 3, 4, 5, 6])"
      ]
     },
     "metadata": {},
     "output_type": "display_data"
    },
    {
     "name": "stdout",
     "output_type": "stream",
     "text": [
      "Changed array\n"
     ]
    },
    {
     "data": {
      "text/plain": [
       "array([[1, 2, 3],\n",
       "       [4, 5, 6]])"
      ]
     },
     "metadata": {},
     "output_type": "display_data"
    },
    {
     "name": "stdout",
     "output_type": "stream",
     "text": [
      "Original array:\n"
     ]
    },
    {
     "data": {
      "text/plain": [
       "array([1, 2, 3, 4, 5, 6])"
      ]
     },
     "metadata": {},
     "output_type": "display_data"
    }
   ],
   "source": [
    " #creating an array \n",
    "gfg = np.array([1, 2, 3, 4, 5, 6]) \n",
    "print(\"Original array:\")\n",
    "display(gfg)  \n",
    "  \n",
    "# using reshape()\n",
    "print(\"Changed array\")\n",
    "display(gfg.reshape(2, 3)) #display the array in 2 rows and 3 columns\n",
    "    \n",
    "print(\"Original array:\")\n",
    "display(gfg)\n"
   ]
  },
  {
   "cell_type": "markdown",
   "id": "6c0f786c",
   "metadata": {},
   "source": [
    "Transposing an array-returns array with the axes transposed\n",
    "transposing a one dimensional arrayu retuens the array unchanged\n"
   ]
  },
  {
   "cell_type": "code",
   "execution_count": 20,
   "id": "dbbc264c",
   "metadata": {},
   "outputs": [
    {
     "name": "stdout",
     "output_type": "stream",
     "text": [
      "[[[ 1.  2.  3.  4.]\n",
      "  [ 5.  6.  7.  8.]]\n",
      "\n",
      " [[ 9. 10. 11. 12.]\n",
      "  [13. 14. 15. 16.]]]\n",
      "[[[ 1.  9.]\n",
      "  [ 5. 13.]]\n",
      "\n",
      " [[ 2. 10.]\n",
      "  [ 6. 14.]]\n",
      "\n",
      " [[ 3. 11.]\n",
      "  [ 7. 15.]]\n",
      "\n",
      " [[ 4. 12.]\n",
      "  [ 8. 16.]]]\n",
      "(4, 2, 2)\n"
     ]
    }
   ],
   "source": [
    "a=np.linspace(1,16,16)\n",
    "a=a.reshape(2,2,4)\n",
    "print(a)\n",
    "print(a.transpose())\n",
    "print(a.transpose().shape)\n"
   ]
  },
  {
   "cell_type": "code",
   "execution_count": 21,
   "id": "b8086099",
   "metadata": {},
   "outputs": [
    {
     "data": {
      "text/plain": [
       "array([[[ 1.,  9.],\n",
       "        [ 5., 13.]],\n",
       "\n",
       "       [[ 2., 10.],\n",
       "        [ 6., 14.]],\n",
       "\n",
       "       [[ 3., 11.],\n",
       "        [ 7., 15.]],\n",
       "\n",
       "       [[ 4., 12.],\n",
       "        [ 8., 16.]]])"
      ]
     },
     "execution_count": 21,
     "metadata": {},
     "output_type": "execute_result"
    }
   ],
   "source": [
    "a.T"
   ]
  },
  {
   "cell_type": "code",
   "execution_count": 22,
   "id": "b8981c23",
   "metadata": {},
   "outputs": [
    {
     "data": {
      "text/plain": [
       "array([100, 101, 102, 103])"
      ]
     },
     "execution_count": 22,
     "metadata": {},
     "output_type": "execute_result"
    }
   ],
   "source": [
    "b=np.array([100,101,102,103])\n",
    "b.transpose() # transposing a one imensional array returns the array unchanged"
   ]
  },
  {
   "cell_type": "markdown",
   "id": "18ecf66c",
   "metadata": {},
   "source": [
    "merging and splitting the arrays\n"
   ]
  },
  {
   "cell_type": "code",
   "execution_count": 23,
   "id": "60029873",
   "metadata": {},
   "outputs": [
    {
     "name": "stdout",
     "output_type": "stream",
     "text": [
      "[array([1, 2]), array([3, 4]), array([5, 6])]\n"
     ]
    }
   ],
   "source": [
    "arr=np.array([1,2,3,4,5,6])\n",
    "newarr=np.array_split(arr,3)\n",
    "print(newarr)"
   ]
  },
  {
   "cell_type": "markdown",
   "id": "1de65b96",
   "metadata": {},
   "source": [
    "spliting the 2d array into three 2d arrays"
   ]
  },
  {
   "cell_type": "code",
   "execution_count": 24,
   "id": "8b91d6ce",
   "metadata": {},
   "outputs": [
    {
     "name": "stdout",
     "output_type": "stream",
     "text": [
      "[[ 1  2  3]\n",
      " [ 4  5  6]\n",
      " [ 7  8  9]\n",
      " [10 11 12]\n",
      " [13 14 15]\n",
      " [16 17 18]]\n"
     ]
    }
   ],
   "source": [
    "arr=np.array([[1,2,3],[4,5,6],[7,8,9],[10,11,12],[13,14,15],[16,17,18]])\n",
    "newarr=np.array_split(arr,3)\n",
    "print(arr)"
   ]
  },
  {
   "cell_type": "markdown",
   "id": "bbd76757",
   "metadata": {},
   "source": [
    "split the 2d array into three 2d arrays along the rows"
   ]
  },
  {
   "cell_type": "code",
   "execution_count": 25,
   "id": "29124d78",
   "metadata": {},
   "outputs": [
    {
     "name": "stdout",
     "output_type": "stream",
     "text": [
      "[array([[ 1],\n",
      "       [ 4],\n",
      "       [ 7],\n",
      "       [10],\n",
      "       [13],\n",
      "       [16]]), array([[ 2],\n",
      "       [ 5],\n",
      "       [ 8],\n",
      "       [11],\n",
      "       [14],\n",
      "       [17]]), array([[ 3],\n",
      "       [ 6],\n",
      "       [ 9],\n",
      "       [12],\n",
      "       [15],\n",
      "       [18]])]\n"
     ]
    }
   ],
   "source": [
    "arr=np.array([[1,2,3],[4,5,6],[7,8,9],[10,11,12],[13,14,15],[16,17,18]])\n",
    "newarr=np.array_split(arr,3,axis=1)\n",
    "print(newarr)"
   ]
  },
  {
   "cell_type": "code",
   "execution_count": 26,
   "id": "c66a569f",
   "metadata": {},
   "outputs": [
    {
     "name": "stdout",
     "output_type": "stream",
     "text": [
      "[array([[ 1],\n",
      "       [ 4],\n",
      "       [ 7],\n",
      "       [10],\n",
      "       [13],\n",
      "       [16]]), array([[ 2],\n",
      "       [ 5],\n",
      "       [ 8],\n",
      "       [11],\n",
      "       [14],\n",
      "       [17]]), array([[ 3],\n",
      "       [ 6],\n",
      "       [ 9],\n",
      "       [12],\n",
      "       [15],\n",
      "       [18]])]\n"
     ]
    }
   ],
   "source": [
    "#hsplit () method to split the array 2-D \n",
    "arr=np.array([[1,2,3],[4,5,6],[7,8,9],[10,11,12],[13,14,15],[16,17,18]])\n",
    "newarr=np.hsplit(arr,3)\n",
    "print(newarr)"
   ]
  },
  {
   "cell_type": "code",
   "execution_count": 29,
   "id": "a21ccdca",
   "metadata": {},
   "outputs": [
    {
     "name": "stdout",
     "output_type": "stream",
     "text": [
      "the first input array [1 2 3]\n",
      "the second input array [4 5 6]\n",
      "the ouput stacked array is  [1 2 3 4 5 6]\n"
     ]
    }
   ],
   "source": [
    "#hstack function  used to stack the input of sequence array  horizontally\n",
    "in_arr1=np.array([1,2,3])\n",
    "print(\"the first input array\",in_arr1)\n",
    "\n",
    "in_arr2=np.array([4,5,6])\n",
    "print(\"the second input array\",in_arr2)\n",
    "\n",
    "#stavking the two arrays horizontally\n",
    "out_stack=np.hstack((in_arr1,in_arr2))\n",
    "print(\"the ouput stacked array is \",out_stack)"
   ]
  },
  {
   "cell_type": "code",
   "execution_count": 30,
   "id": "a8b2c2bb",
   "metadata": {},
   "outputs": [
    {
     "name": "stdout",
     "output_type": "stream",
     "text": [
      "the first input array [1 2 3]\n",
      "the second input array [4 5 6]\n",
      "[[[1 4]\n",
      "  [2 5]\n",
      "  [3 6]]]\n"
     ]
    }
   ],
   "source": [
    "#dstack\n",
    "in_arr1=np.array([1,2,3])\n",
    "print(\"the first input array\",in_arr1)\n",
    "\n",
    "in_arr2=np.array([4,5,6])\n",
    "print(\"the second input array\",in_arr2)\n",
    "print(np.dstack((in_arr1,in_arr2)))"
   ]
  },
  {
   "cell_type": "code",
   "execution_count": 32,
   "id": "4b1ec9d2",
   "metadata": {},
   "outputs": [
    {
     "ename": "AttributeError",
     "evalue": "module 'numpy' has no attribute 'linspapce'",
     "output_type": "error",
     "traceback": [
      "\u001b[1;31m---------------------------------------------------------------------------\u001b[0m",
      "\u001b[1;31mAttributeError\u001b[0m                            Traceback (most recent call last)",
      "Cell \u001b[1;32mIn[32], line 1\u001b[0m\n\u001b[1;32m----> 1\u001b[0m a\u001b[38;5;241m=\u001b[39m\u001b[43mnp\u001b[49m\u001b[38;5;241;43m.\u001b[39;49m\u001b[43mlinspapce\u001b[49m(\u001b[38;5;241m1\u001b[39m,\u001b[38;5;241m12\u001b[39m,\u001b[38;5;241m12\u001b[39m)\u001b[38;5;241m.\u001b[39mreshape(\u001b[38;5;241m4\u001b[39m,\u001b[38;5;241m3\u001b[39m)\n\u001b[0;32m      2\u001b[0m a\n",
      "File \u001b[1;32m~\\AppData\\Local\\Programs\\Python\\Python311\\Lib\\site-packages\\numpy\\__init__.py:322\u001b[0m, in \u001b[0;36m__getattr__\u001b[1;34m(attr)\u001b[0m\n\u001b[0;32m    319\u001b[0m     \u001b[38;5;124m\"\u001b[39m\u001b[38;5;124mRemoved in NumPy 1.25.0\u001b[39m\u001b[38;5;124m\"\u001b[39m\n\u001b[0;32m    320\u001b[0m     \u001b[38;5;28;01mraise\u001b[39;00m \u001b[38;5;167;01mRuntimeError\u001b[39;00m(\u001b[38;5;124m\"\u001b[39m\u001b[38;5;124mTester was removed in NumPy 1.25.\u001b[39m\u001b[38;5;124m\"\u001b[39m)\n\u001b[1;32m--> 322\u001b[0m \u001b[38;5;28;01mraise\u001b[39;00m \u001b[38;5;167;01mAttributeError\u001b[39;00m(\u001b[38;5;124m\"\u001b[39m\u001b[38;5;124mmodule \u001b[39m\u001b[38;5;132;01m{!r}\u001b[39;00m\u001b[38;5;124m has no attribute \u001b[39m\u001b[38;5;124m\"\u001b[39m\n\u001b[0;32m    323\u001b[0m                      \u001b[38;5;124m\"\u001b[39m\u001b[38;5;132;01m{!r}\u001b[39;00m\u001b[38;5;124m\"\u001b[39m\u001b[38;5;241m.\u001b[39mformat(\u001b[38;5;18m__name__\u001b[39m, attr))\n",
      "\u001b[1;31mAttributeError\u001b[0m: module 'numpy' has no attribute 'linspapce'"
     ]
    }
   ],
   "source": []
  },
  {
   "cell_type": "code",
   "execution_count": 36,
   "id": "adfaa131",
   "metadata": {},
   "outputs": [
    {
     "ename": "NameError",
     "evalue": "name 'x' is not defined",
     "output_type": "error",
     "traceback": [
      "\u001b[1;31m---------------------------------------------------------------------------\u001b[0m",
      "\u001b[1;31mNameError\u001b[0m                                 Traceback (most recent call last)",
      "Cell \u001b[1;32mIn[36], line 4\u001b[0m\n\u001b[0;32m      2\u001b[0m a\u001b[38;5;241m=\u001b[39mnp\u001b[38;5;241m.\u001b[39marray([\u001b[38;5;241m1\u001b[39m,\u001b[38;5;241m2\u001b[39m,\u001b[38;5;241m3\u001b[39m,\u001b[38;5;241m4\u001b[39m,\u001b[38;5;241m5\u001b[39m,\u001b[38;5;241m6\u001b[39m,\u001b[38;5;241m7\u001b[39m,\u001b[38;5;241m8\u001b[39m,\u001b[38;5;241m9\u001b[39m])\n\u001b[0;32m      3\u001b[0m \u001b[38;5;66;03m#index values can be negetive also\u001b[39;00m\n\u001b[1;32m----> 4\u001b[0m arr\u001b[38;5;241m=\u001b[39m\u001b[43mx\u001b[49m[np\u001b[38;5;241m.\u001b[39marray([\u001b[38;5;241m1\u001b[39m,\u001b[38;5;241m3\u001b[39m,\u001b[38;5;241m-\u001b[39m\u001b[38;5;241m4\u001b[39m])]\n\u001b[0;32m      5\u001b[0m \u001b[38;5;28mprint\u001b[39m(\u001b[38;5;124m\"\u001b[39m\u001b[38;5;124mthe elements are \u001b[39m\u001b[38;5;124m\"\u001b[39m,arr)\n",
      "\u001b[1;31mNameError\u001b[0m: name 'x' is not defined"
     ]
    }
   ],
   "source": [
    "import numpy as np\n",
    "a=np.array([1,2,3,4,5,6,7,8,9])\n",
    "#index values can be negetive also\n",
    "arr=x[np.array([1,3,-4])]\n",
    "print(\"the elements are \",arr)\n"
   ]
  },
  {
   "cell_type": "code",
   "execution_count": 37,
   "id": "40c74f92",
   "metadata": {},
   "outputs": [
    {
     "data": {
      "text/plain": [
       "array([ 1.,  2.,  3.,  4.,  5.,  6.,  7.,  8.,  9., 10.])"
      ]
     },
     "execution_count": 37,
     "metadata": {},
     "output_type": "execute_result"
    }
   ],
   "source": [
    "a=np.linspace(1,10,10)\n",
    "a"
   ]
  },
  {
   "cell_type": "code",
   "execution_count": 38,
   "id": "6149ee3b",
   "metadata": {},
   "outputs": [
    {
     "data": {
      "text/plain": [
       "array([2., 5., 6.])"
      ]
     },
     "execution_count": 38,
     "metadata": {},
     "output_type": "execute_result"
    }
   ],
   "source": [
    "ia=[1,4,5]\n",
    "a[ia]"
   ]
  },
  {
   "cell_type": "code",
   "execution_count": 39,
   "id": "e74fb72f",
   "metadata": {},
   "outputs": [
    {
     "data": {
      "text/plain": [
       "array([[ 1.,  2.,  3.],\n",
       "       [ 4.,  5.,  6.],\n",
       "       [ 7.,  8.,  9.],\n",
       "       [10., 11., 12.]])"
      ]
     },
     "execution_count": 39,
     "metadata": {},
     "output_type": "execute_result"
    }
   ],
   "source": [
    "a=np.linspace(1,12,12).reshape(4,3)\n",
    "a"
   ]
  },
  {
   "cell_type": "code",
   "execution_count": 40,
   "id": "7a653abb",
   "metadata": {},
   "outputs": [
    {
     "ename": "TypeError",
     "evalue": "Cannot interpret '2' as a data type",
     "output_type": "error",
     "traceback": [
      "\u001b[1;31m---------------------------------------------------------------------------\u001b[0m",
      "\u001b[1;31mTypeError\u001b[0m                                 Traceback (most recent call last)",
      "Cell \u001b[1;32mIn[40], line 1\u001b[0m\n\u001b[1;32m----> 1\u001b[0m ia\u001b[38;5;241m=\u001b[39m\u001b[43mnp\u001b[49m\u001b[38;5;241;43m.\u001b[39;49m\u001b[43marray\u001b[49m\u001b[43m(\u001b[49m\u001b[43m(\u001b[49m\u001b[38;5;241;43m1\u001b[39;49m\u001b[43m,\u001b[49m\u001b[38;5;241;43m0\u001b[39;49m\u001b[43m)\u001b[49m\u001b[43m,\u001b[49m\u001b[43m(\u001b[49m\u001b[38;5;241;43m2\u001b[39;49m\u001b[43m,\u001b[49m\u001b[38;5;241;43m1\u001b[39;49m\u001b[43m)\u001b[49m\u001b[43m)\u001b[49m\n\u001b[0;32m      2\u001b[0m ja\u001b[38;5;241m=\u001b[39mnp\u001b[38;5;241m.\u001b[39marray((\u001b[38;5;241m0\u001b[39m,\u001b[38;5;241m1\u001b[39m),(\u001b[38;5;241m1\u001b[39m,\u001b[38;5;241m2\u001b[39m))\n\u001b[0;32m      3\u001b[0m a[ia,ja]\n",
      "\u001b[1;31mTypeError\u001b[0m: Cannot interpret '2' as a data type"
     ]
    }
   ],
   "source": [
    "ia=np.array((1,0),(2,1))\n",
    "ja=np.array((0,1),(1,2))\n",
    "a[ia,ja]\n"
   ]
  },
  {
   "cell_type": "code",
   "execution_count": 43,
   "id": "08b38e1b",
   "metadata": {},
   "outputs": [
    {
     "name": "stdout",
     "output_type": "stream",
     "text": [
      "(5, 5)\n",
      "(1, 5, 5, 1, 1)\n"
     ]
    }
   ],
   "source": [
    "arr=np.arange(5*5).reshape(5,5)\n",
    "print(arr.shape)\n",
    "#promoting the 2d array into 5d array\n",
    "#arr[none,....None,none]\n",
    "arr_5d=arr[np.newaxis,...,np.newaxis,np.newaxis]\n",
    "print(arr_5d.shape)"
   ]
  },
  {
   "cell_type": "markdown",
   "id": "a129f104",
   "metadata": {},
   "source": [
    "meshes"
   ]
  },
  {
   "cell_type": "code",
   "execution_count": 44,
   "id": "99ebccbf",
   "metadata": {},
   "outputs": [
    {
     "data": {
      "text/plain": [
       "array([[0., 1., 2., 3., 4., 5.],\n",
       "       [0., 1., 2., 3., 4., 5.],\n",
       "       [0., 1., 2., 3., 4., 5.],\n",
       "       [0., 1., 2., 3., 4., 5.]])"
      ]
     },
     "execution_count": 44,
     "metadata": {},
     "output_type": "execute_result"
    }
   ],
   "source": [
    "x=np.linspace(0,5,6)\n",
    "y=np.linspace(0,3,4)\n",
    "X,Y=np.meshgrid(x,y)\n",
    "X"
   ]
  },
  {
   "cell_type": "code",
   "execution_count": 45,
   "id": "81469d8d",
   "metadata": {},
   "outputs": [
    {
     "data": {
      "text/plain": [
       "array([[0., 0., 0., 0., 0., 0.],\n",
       "       [1., 1., 1., 1., 1., 1.],\n",
       "       [2., 2., 2., 2., 2., 2.],\n",
       "       [3., 3., 3., 3., 3., 3.]])"
      ]
     },
     "execution_count": 45,
     "metadata": {},
     "output_type": "execute_result"
    }
   ],
   "source": [
    "Y"
   ]
  },
  {
   "cell_type": "markdown",
   "id": "e6e7f4d5",
   "metadata": {},
   "source": [
    "the x array is repeated as rows down x and y arrays as columns across Y"
   ]
  },
  {
   "cell_type": "code",
   "execution_count": 46,
   "id": "caf3de12",
   "metadata": {},
   "outputs": [
    {
     "data": {
      "text/plain": [
       "(array([0., 1., 2., 3., 4., 5.]), array([0., 1., 2., 3.]))"
      ]
     },
     "execution_count": 46,
     "metadata": {},
     "output_type": "execute_result"
    }
   ],
   "source": [
    "X,Y=np.meshgrid(x,y,sparse=True)\n",
    "x,y"
   ]
  },
  {
   "cell_type": "code",
   "execution_count": 47,
   "id": "b6f42e44",
   "metadata": {},
   "outputs": [
    {
     "data": {
      "text/plain": [
       "array([5, 6, 7])"
      ]
     },
     "execution_count": 47,
     "metadata": {},
     "output_type": "execute_result"
    }
   ],
   "source": [
    "##Broadcasting The term broadcasting refers to how numpy treats arrays with different Dimension during arithmetic operations \n",
    "##before broadcasting\n",
    "a=np.array((0,1,2))\n",
    "b=np.array([5,5,5])\n",
    "a+b"
   ]
  },
  {
   "cell_type": "code",
   "execution_count": 48,
   "id": "cf703f57",
   "metadata": {},
   "outputs": [
    {
     "data": {
      "text/plain": [
       "array([5, 6, 7])"
      ]
     },
     "execution_count": 48,
     "metadata": {},
     "output_type": "execute_result"
    }
   ],
   "source": [
    "#broadcasting allw us to add a scalar \n",
    "a+5"
   ]
  },
  {
   "cell_type": "code",
   "execution_count": 49,
   "id": "b1180964",
   "metadata": {},
   "outputs": [
    {
     "data": {
      "text/plain": [
       "array([[1., 1., 1.],\n",
       "       [1., 1., 1.],\n",
       "       [1., 1., 1.]])"
      ]
     },
     "execution_count": 49,
     "metadata": {},
     "output_type": "execute_result"
    }
   ],
   "source": [
    "M=np.ones((3,3))\n",
    "M"
   ]
  },
  {
   "cell_type": "code",
   "execution_count": 50,
   "id": "b249d9b3",
   "metadata": {},
   "outputs": [
    {
     "data": {
      "text/plain": [
       "array([[1., 2., 3.],\n",
       "       [1., 2., 3.],\n",
       "       [1., 2., 3.]])"
      ]
     },
     "execution_count": 50,
     "metadata": {},
     "output_type": "execute_result"
    }
   ],
   "source": [
    "M+a"
   ]
  },
  {
   "cell_type": "code",
   "execution_count": 52,
   "id": "8abcf138",
   "metadata": {},
   "outputs": [
    {
     "name": "stdout",
     "output_type": "stream",
     "text": [
      "[0 1]\n",
      "[[0]\n",
      " [1]\n",
      " [2]]\n"
     ]
    }
   ],
   "source": [
    "a=np.arange(2) #arange will generate sequence of numbers in sequential manner\n",
    "b=np.arange(3)[:, np.newaxis]\n",
    "print(a)\n",
    "print(b)"
   ]
  },
  {
   "cell_type": "code",
   "execution_count": 53,
   "id": "9c669492",
   "metadata": {},
   "outputs": [
    {
     "data": {
      "text/plain": [
       "array([[0, 1],\n",
       "       [1, 2],\n",
       "       [2, 3]])"
      ]
     },
     "execution_count": 53,
     "metadata": {},
     "output_type": "execute_result"
    }
   ],
   "source": [
    "a+b"
   ]
  },
  {
   "cell_type": "markdown",
   "id": "9bc9e48c",
   "metadata": {},
   "source": [
    "Max and min values in the array"
   ]
  },
  {
   "cell_type": "code",
   "execution_count": 4,
   "id": "6dc803c0",
   "metadata": {},
   "outputs": [
    {
     "name": "stdout",
     "output_type": "stream",
     "text": [
      "the max element in the arrat is 7\n",
      "the min element in the array is 1\n"
     ]
    }
   ],
   "source": [
    "import numpy as np\n",
    "arr=np.array([1,2,3,4,5,6,7])\n",
    "#finding the maximum and \n",
    "#finding the min element\n",
    "max_element=np.max(arr)\n",
    "min_element=np.min(arr)\n",
    "#printing the result\n",
    "print(\"the max element in the arrat is\",max_element)\n",
    "print(\"the min element in the array is\",min_element)"
   ]
  },
  {
   "cell_type": "code",
   "execution_count": 6,
   "id": "c5854cec",
   "metadata": {},
   "outputs": [
    {
     "data": {
      "text/plain": [
       "array([[ 3,  0,  1, -1],\n",
       "       [ 2, -1, -2,  4],\n",
       "       [ 1,  7,  0,  4]])"
      ]
     },
     "execution_count": 6,
     "metadata": {},
     "output_type": "execute_result"
    }
   ],
   "source": [
    "a=np.array([[3,0,1,-1],[2,-1,-2,4],[1,7,0,4]])\n",
    "a"
   ]
  },
  {
   "cell_type": "code",
   "execution_count": 7,
   "id": "2dbc30c6",
   "metadata": {},
   "outputs": [
    {
     "data": {
      "text/plain": [
       "7"
      ]
     },
     "execution_count": 7,
     "metadata": {},
     "output_type": "execute_result"
    }
   ],
   "source": [
    "a.flatten()[9]"
   ]
  },
  {
   "cell_type": "code",
   "execution_count": 8,
   "id": "dc9a13e5",
   "metadata": {},
   "outputs": [
    {
     "name": "stdout",
     "output_type": "stream",
     "text": [
      "6\n",
      "9\n"
     ]
    }
   ],
   "source": [
    "print(np.argmin(a))\n",
    "print(np.argmax(a))"
   ]
  },
  {
   "cell_type": "code",
   "execution_count": 9,
   "id": "c2240912",
   "metadata": {},
   "outputs": [
    {
     "data": {
      "text/plain": [
       "7"
      ]
     },
     "execution_count": 9,
     "metadata": {},
     "output_type": "execute_result"
    }
   ],
   "source": [
    "a.max()"
   ]
  },
  {
   "cell_type": "code",
   "execution_count": 11,
   "id": "7c0aeb02",
   "metadata": {},
   "outputs": [
    {
     "name": "stdout",
     "output_type": "stream",
     "text": [
      "[3 7 1 4]\n",
      "[-1 -2  0]\n"
     ]
    }
   ],
   "source": [
    "print(a.max(axis=0)) #maxima in each column\n",
    "print(a.min(axis=1)) #minima in each row"
   ]
  },
  {
   "cell_type": "code",
   "execution_count": 12,
   "id": "5732604e",
   "metadata": {},
   "outputs": [
    {
     "data": {
      "text/plain": [
       "6"
      ]
     },
     "execution_count": 12,
     "metadata": {},
     "output_type": "execute_result"
    }
   ],
   "source": [
    "a.argmin()"
   ]
  },
  {
   "cell_type": "code",
   "execution_count": 13,
   "id": "233d3a4e",
   "metadata": {},
   "outputs": [
    {
     "data": {
      "text/plain": [
       "True"
      ]
     },
     "execution_count": 13,
     "metadata": {},
     "output_type": "execute_result"
    }
   ],
   "source": [
    "a.ravel()[a.argmin()]==a.min()"
   ]
  },
  {
   "cell_type": "code",
   "execution_count": 14,
   "id": "0219c384",
   "metadata": {},
   "outputs": [
    {
     "name": "stdout",
     "output_type": "stream",
     "text": [
      "[0 2 0 1]\n"
     ]
    }
   ],
   "source": [
    "print(a.argmax(axis=0)) #row indexes of maxima in each column"
   ]
  },
  {
   "cell_type": "code",
   "execution_count": 15,
   "id": "cb98804c",
   "metadata": {},
   "outputs": [
    {
     "name": "stdout",
     "output_type": "stream",
     "text": [
      "[0 3 1]\n"
     ]
    }
   ],
   "source": [
    "print(a.argmax(axis=1))"
   ]
  },
  {
   "cell_type": "markdown",
   "id": "50d803ee",
   "metadata": {},
   "source": [
    "sorting an array"
   ]
  },
  {
   "cell_type": "code",
   "execution_count": 16,
   "id": "f005c963",
   "metadata": {},
   "outputs": [
    {
     "name": "stdout",
     "output_type": "stream",
     "text": [
      "[-1  0  2  4  4  5]\n"
     ]
    }
   ],
   "source": [
    "a=np.sort([5,-1,2,4,0,4])\n",
    "a.sort()\n",
    "print(a)"
   ]
  },
  {
   "cell_type": "code",
   "execution_count": 18,
   "id": "083e8851",
   "metadata": {},
   "outputs": [
    {
     "data": {
      "text/plain": [
       "array([[ 0,  3, -2],\n",
       "       [ 7,  1,  3],\n",
       "       [ 4,  0, -1]])"
      ]
     },
     "execution_count": 18,
     "metadata": {},
     "output_type": "execute_result"
    }
   ],
   "source": [
    "b=np.array([[0,3,-2],[7,1,3],[4,0,-1]])\n",
    "b"
   ]
  },
  {
   "cell_type": "code",
   "execution_count": 20,
   "id": "cb086d34",
   "metadata": {},
   "outputs": [
    {
     "data": {
      "text/plain": [
       "array([[-2,  0,  3],\n",
       "       [ 1,  3,  7],\n",
       "       [-1,  0,  4]])"
      ]
     },
     "execution_count": 20,
     "metadata": {},
     "output_type": "execute_result"
    }
   ],
   "source": [
    "b.sort() #sorting along each row\n",
    "b"
   ]
  },
  {
   "cell_type": "code",
   "execution_count": 22,
   "id": "ce7d055c",
   "metadata": {},
   "outputs": [
    {
     "name": "stdout",
     "output_type": "stream",
     "text": [
      "[[-2  0  3]\n",
      " [-1  0  4]\n",
      " [ 1  3  7]]\n"
     ]
    }
   ],
   "source": [
    "b.sort(axis=0)\n",
    "print(b)"
   ]
  },
  {
   "cell_type": "code",
   "execution_count": 23,
   "id": "cd6db8f2",
   "metadata": {},
   "outputs": [
    {
     "data": {
      "text/plain": [
       "array([2, 1, 3, 0], dtype=int64)"
      ]
     },
     "execution_count": 23,
     "metadata": {},
     "output_type": "execute_result"
    }
   ],
   "source": [
    "a=np.array([3,0,-1,1])\n",
    "np.argsort(a)"
   ]
  },
  {
   "cell_type": "code",
   "execution_count": 24,
   "id": "3776e15d",
   "metadata": {},
   "outputs": [
    {
     "data": {
      "text/plain": [
       "array([-1,  0,  1,  3])"
      ]
     },
     "execution_count": 24,
     "metadata": {},
     "output_type": "execute_result"
    }
   ],
   "source": [
    "a[np.argsort(a)]"
   ]
  },
  {
   "cell_type": "code",
   "execution_count": 25,
   "id": "9be9954d",
   "metadata": {},
   "outputs": [
    {
     "data": {
      "text/plain": [
       "3"
      ]
     },
     "execution_count": 25,
     "metadata": {},
     "output_type": "execute_result"
    }
   ],
   "source": [
    "a=np.array([1,2,3,4])\n",
    "np.searchsorted(a,3.5)"
   ]
  },
  {
   "cell_type": "code",
   "execution_count": 27,
   "id": "18735d88",
   "metadata": {},
   "outputs": [
    {
     "data": {
      "text/plain": [
       "array([3, 0, 1], dtype=int64)"
      ]
     },
     "execution_count": 27,
     "metadata": {},
     "output_type": "execute_result"
    }
   ],
   "source": [
    "np.searchsorted(a,(3.5,0,1.1))"
   ]
  },
  {
   "cell_type": "markdown",
   "id": "f659aaa5",
   "metadata": {},
   "source": [
    "sTATISTICS\n"
   ]
  },
  {
   "cell_type": "code",
   "execution_count": 28,
   "id": "f48f7104",
   "metadata": {},
   "outputs": [
    {
     "name": "stdout",
     "output_type": "stream",
     "text": [
      "[       nan        nan 0.81649658 1.41421356]\n"
     ]
    },
    {
     "name": "stderr",
     "output_type": "stream",
     "text": [
      "C:\\Users\\Msc 1\\AppData\\Local\\Temp\\ipykernel_636\\1251473525.py:1: RuntimeWarning: invalid value encountered in sqrt\n",
      "  a=np.sqrt(np.linspace(-2,2,4))\n"
     ]
    }
   ],
   "source": [
    "a=np.sqrt(np.linspace(-2,2,4))\n",
    "print(a)"
   ]
  },
  {
   "cell_type": "code",
   "execution_count": 29,
   "id": "6f22bf36",
   "metadata": {},
   "outputs": [
    {
     "data": {
      "text/plain": [
       "(nan, nan)"
      ]
     },
     "execution_count": 29,
     "metadata": {},
     "output_type": "execute_result"
    }
   ],
   "source": [
    "np.min(a),np.max(a)"
   ]
  },
  {
   "cell_type": "code",
   "execution_count": 30,
   "id": "960bcb5a",
   "metadata": {},
   "outputs": [
    {
     "data": {
      "text/plain": [
       "(1.4142135623730951, 0.8164965809277259)"
      ]
     },
     "execution_count": 30,
     "metadata": {},
     "output_type": "execute_result"
    }
   ],
   "source": [
    "np.nanmax(a),np.nanmin(a)"
   ]
  },
  {
   "cell_type": "code",
   "execution_count": 31,
   "id": "e340cb7b",
   "metadata": {},
   "outputs": [
    {
     "data": {
      "text/plain": [
       "(0, 0)"
      ]
     },
     "execution_count": 31,
     "metadata": {},
     "output_type": "execute_result"
    }
   ],
   "source": [
    "np.argmax(a),np.argmin(a)"
   ]
  },
  {
   "cell_type": "code",
   "execution_count": 33,
   "id": "732729b2",
   "metadata": {},
   "outputs": [
    {
     "data": {
      "text/plain": [
       "(2, 3)"
      ]
     },
     "execution_count": 33,
     "metadata": {},
     "output_type": "execute_result"
    }
   ],
   "source": [
    "np.nanargmin(a),np.nanargmax(a)"
   ]
  },
  {
   "cell_type": "code",
   "execution_count": 34,
   "id": "5668a807",
   "metadata": {},
   "outputs": [
    {
     "data": {
      "text/plain": [
       "array([ 1., -5.,  6.,  3.])"
      ]
     },
     "execution_count": 34,
     "metadata": {},
     "output_type": "execute_result"
    }
   ],
   "source": [
    "b=np.array([1,-5,6,2])\n",
    "c=np.array([0,np.nan,-1,3])\n",
    "np.fmax(b,c)"
   ]
  },
  {
   "cell_type": "code",
   "execution_count": 35,
   "id": "11e946f5",
   "metadata": {},
   "outputs": [
    {
     "data": {
      "text/plain": [
       "array([ 0., -5., -1.,  2.])"
      ]
     },
     "execution_count": 35,
     "metadata": {},
     "output_type": "execute_result"
    }
   ],
   "source": [
    "np.fmin(b,c)"
   ]
  },
  {
   "cell_type": "markdown",
   "id": "c6cf6f08",
   "metadata": {},
   "source": [
    "percentiles"
   ]
  },
  {
   "cell_type": "code",
   "execution_count": 2,
   "id": "29930cb3",
   "metadata": {},
   "outputs": [],
   "source": [
    "##np.percentile method returns the specified percentile"
   ]
  },
  {
   "cell_type": "code",
   "execution_count": 7,
   "id": "33745895",
   "metadata": {},
   "outputs": [
    {
     "name": "stdout",
     "output_type": "stream",
     "text": [
      "arr :  [20, 2, 7, 1, 34]\n",
      "50th percentile of arr :  7.0\n",
      "25th percentile of arr :  2.0\n",
      "75th percentile of arr :  20.0\n"
     ]
    },
    {
     "ename": "AttributeError",
     "evalue": "'list' object has no attribute 'percentile'",
     "output_type": "error",
     "traceback": [
      "\u001b[1;31m---------------------------------------------------------------------------\u001b[0m",
      "\u001b[1;31mAttributeError\u001b[0m                            Traceback (most recent call last)",
      "Cell \u001b[1;32mIn[7], line 10\u001b[0m\n\u001b[0;32m      6\u001b[0m \u001b[38;5;28mprint\u001b[39m(\u001b[38;5;124m\"\u001b[39m\u001b[38;5;124m25th percentile of arr : \u001b[39m\u001b[38;5;124m\"\u001b[39m,\n\u001b[0;32m      7\u001b[0m        np\u001b[38;5;241m.\u001b[39mpercentile(arr, \u001b[38;5;241m25\u001b[39m))\n\u001b[0;32m      8\u001b[0m \u001b[38;5;28mprint\u001b[39m(\u001b[38;5;124m\"\u001b[39m\u001b[38;5;124m75th percentile of arr : \u001b[39m\u001b[38;5;124m\"\u001b[39m,\n\u001b[0;32m      9\u001b[0m        np\u001b[38;5;241m.\u001b[39mpercentile(arr, \u001b[38;5;241m75\u001b[39m))\n\u001b[1;32m---> 10\u001b[0m \u001b[43marr\u001b[49m\u001b[38;5;241;43m.\u001b[39;49m\u001b[43mpercentile\u001b[49m(arr,\u001b[38;5;241m0\u001b[39m)\n",
      "\u001b[1;31mAttributeError\u001b[0m: 'list' object has no attribute 'percentile'"
     ]
    }
   ],
   "source": [
    "import numpy as np\n",
    "arr = [20, 2, 7, 1, 34]\n",
    "print(\"arr : \", arr)\n",
    "print(\"50th percentile of arr : \",\n",
    "       np.percentile(arr, 50))\n",
    "print(\"25th percentile of arr : \",\n",
    "       np.percentile(arr, 25))\n",
    "print(\"75th percentile of arr : \",\n",
    "       np.percentile(arr, 75))\n"
   ]
  },
  {
   "cell_type": "code",
   "execution_count": 8,
   "id": "9a5f7784",
   "metadata": {},
   "outputs": [
    {
     "data": {
      "text/plain": [
       "7.5"
      ]
     },
     "execution_count": 8,
     "metadata": {},
     "output_type": "execute_result"
    }
   ],
   "source": [
    "##sample statistics\n",
    "x=np.array([1.,4.,9,16])\n",
    "np.mean(x)"
   ]
  },
  {
   "cell_type": "code",
   "execution_count": 9,
   "id": "42eeadea",
   "metadata": {},
   "outputs": [
    {
     "data": {
      "text/plain": [
       "6.5"
      ]
     },
     "execution_count": 9,
     "metadata": {},
     "output_type": "execute_result"
    }
   ],
   "source": [
    "np.median(x)"
   ]
  },
  {
   "cell_type": "code",
   "execution_count": 11,
   "id": "6ec5ee00",
   "metadata": {},
   "outputs": [
    {
     "data": {
      "text/plain": [
       "7.153846153846154"
      ]
     },
     "execution_count": 11,
     "metadata": {},
     "output_type": "execute_result"
    }
   ],
   "source": [
    "np.average(x, weights=[0.3,0,1,0])"
   ]
  },
  {
   "cell_type": "code",
   "execution_count": 14,
   "id": "8e09733b",
   "metadata": {},
   "outputs": [
    {
     "name": "stdout",
     "output_type": "stream",
     "text": [
      "[9.72727273 0.90909091]\n",
      "[1.1 1.1]\n"
     ]
    }
   ],
   "source": [
    "x=np.array([[1,8,27],[-0.5,1,0.]])\n",
    "av,sw=np.average(x,weights=[0,1.,0.1], axis=1,returned=True)\n",
    "print(av)\n",
    "print(sw)"
   ]
  },
  {
   "cell_type": "code",
   "execution_count": 15,
   "id": "87d3455d",
   "metadata": {},
   "outputs": [
    {
     "data": {
      "text/plain": [
       "1.118033988749895"
      ]
     },
     "execution_count": 15,
     "metadata": {},
     "output_type": "execute_result"
    }
   ],
   "source": [
    "x=np.array([1.,2.,3.,4.])\n",
    "np.std(x)"
   ]
  },
  {
   "cell_type": "code",
   "execution_count": 16,
   "id": "793c4c89",
   "metadata": {},
   "outputs": [
    {
     "data": {
      "text/plain": [
       "1.2909944487358056"
      ]
     },
     "execution_count": 16,
     "metadata": {},
     "output_type": "execute_result"
    }
   ],
   "source": [
    "np.std(x,ddof=1)"
   ]
  },
  {
   "cell_type": "code",
   "execution_count": 17,
   "id": "ff6c4192",
   "metadata": {},
   "outputs": [
    {
     "data": {
      "text/plain": [
       "1.118033988749895"
      ]
     },
     "execution_count": 17,
     "metadata": {},
     "output_type": "execute_result"
    }
   ],
   "source": [
    "np.sqrt(np.var(x))"
   ]
  },
  {
   "cell_type": "code",
   "execution_count": 18,
   "id": "85c0912e",
   "metadata": {},
   "outputs": [
    {
     "data": {
      "text/plain": [
       "1.6666666666666667"
      ]
     },
     "execution_count": 18,
     "metadata": {},
     "output_type": "execute_result"
    }
   ],
   "source": [
    "np.var(x,ddof=1)"
   ]
  },
  {
   "cell_type": "code",
   "execution_count": 24,
   "id": "eeba0767",
   "metadata": {},
   "outputs": [
    {
     "name": "stdout",
     "output_type": "stream",
     "text": [
      "[[ 0.1   0.3   0.4   0.8   0.9 ]\n",
      " [ 3.1   3.8   0.4   1.8   5.9 ]\n",
      " [10.    8.3   3.4   2.8   0.9 ]\n",
      " [10.2  18.3   3.34  3.48  1.9 ]]\n",
      "[[ 0.115    0.215   -1.2     -1.5675 ]\n",
      " [ 0.215    4.315   -0.4875   2.0775 ]\n",
      " [-1.2     -0.4875  15.017   21.9056 ]\n",
      " [-1.5675   2.0775  21.9056  47.18508]]\n"
     ]
    }
   ],
   "source": [
    "x=np.array([[0.1,0.3,0.4,0.8,0.9],[3.1,3.8,0.4,1.8,5.9],[10,8.3,3.4,2.8,0.9],[10.2,18.3,3.34,3.48,1.9]])\n",
    "print(x)\n",
    "x1=np.cov(x)\n",
    "print(x1)\n"
   ]
  },
  {
   "cell_type": "code",
   "execution_count": 26,
   "id": "ff4fd814",
   "metadata": {},
   "outputs": [
    {
     "name": "stdout",
     "output_type": "stream",
     "text": [
      "[  0.82371823   4.61850417 132.22172954 500.66549478]\n"
     ]
    }
   ],
   "source": [
    "print(np.var(x1,axis=1,ddof=1))"
   ]
  },
  {
   "cell_type": "code",
   "execution_count": 27,
   "id": "c4b9718b",
   "metadata": {},
   "outputs": [
    {
     "name": "stdout",
     "output_type": "stream",
     "text": [
      "[[ 1.          0.30521027 -0.91314708 -0.67290891]\n",
      " [ 0.30521027  1.         -0.06056094  0.14559561]\n",
      " [-0.91314708 -0.06056094  1.          0.82292682]\n",
      " [-0.67290891  0.14559561  0.82292682  1.        ]]\n"
     ]
    }
   ],
   "source": [
    "print(np.corrcoef(x))"
   ]
  },
  {
   "cell_type": "code",
   "execution_count": 28,
   "id": "c240177b",
   "metadata": {},
   "outputs": [
    {
     "name": "stdout",
     "output_type": "stream",
     "text": [
      "[[2.5    0.43  ]\n",
      " [0.43   0.0806]]\n"
     ]
    }
   ],
   "source": [
    "x=np.array([1,2,3,4,5])\n",
    "y=np.array([0.08,0.32,0.41,0.48,0.86])\n",
    "print(np.cov(x,y))"
   ]
  },
  {
   "cell_type": "code",
   "execution_count": 30,
   "id": "cff4e2f3",
   "metadata": {},
   "outputs": [
    {
     "name": "stdout",
     "output_type": "stream",
     "text": [
      "[[1.         0.95792373]\n",
      " [0.95792373 1.        ]]\n"
     ]
    }
   ],
   "source": [
    "print(np.corrcoef(x,y))"
   ]
  },
  {
   "cell_type": "code",
   "execution_count": 32,
   "id": "e4b0e246",
   "metadata": {},
   "outputs": [],
   "source": [
    "##special distributions"
   ]
  },
  {
   "cell_type": "code",
   "execution_count": 34,
   "id": "a384cf00",
   "metadata": {},
   "outputs": [
    {
     "data": {
      "text/plain": [
       "array([9, 4, 9, 9, 1, 6, 4, 6, 8, 7])"
      ]
     },
     "execution_count": 34,
     "metadata": {},
     "output_type": "execute_result"
    }
   ],
   "source": [
    "np.random.seed(3)\n",
    "np.random.randint(1,10,10)"
   ]
  },
  {
   "cell_type": "code",
   "execution_count": 35,
   "id": "55bf43ed",
   "metadata": {},
   "outputs": [
    {
     "data": {
      "text/plain": [
       "array([1, 5, 8, 9, 2])"
      ]
     },
     "execution_count": 35,
     "metadata": {},
     "output_type": "execute_result"
    }
   ],
   "source": [
    "np.random.randint(1,10,size=5)"
   ]
  },
  {
   "cell_type": "code",
   "execution_count": 36,
   "id": "f839f530",
   "metadata": {},
   "outputs": [
    {
     "data": {
      "text/plain": [
       "array([7, 4, 8, 5, 7, 3, 7, 8, 5, 4])"
      ]
     },
     "execution_count": 36,
     "metadata": {},
     "output_type": "execute_result"
    }
   ],
   "source": [
    "np.random.seed(42)\n",
    "np.random.randint(1,10,10)"
   ]
  },
  {
   "cell_type": "code",
   "execution_count": 37,
   "id": "504dfa34",
   "metadata": {},
   "outputs": [
    {
     "data": {
      "text/plain": [
       "array([[1.42866818e-01, 6.50888473e-01, 5.64115790e-02],\n",
       "       [7.21998772e-01, 9.38552709e-01, 7.78765841e-04]])"
      ]
     },
     "execution_count": 37,
     "metadata": {},
     "output_type": "execute_result"
    }
   ],
   "source": [
    "#generate random floating point numbers\n",
    "np.random.random_sample((2,3))"
   ]
  },
  {
   "cell_type": "code",
   "execution_count": 38,
   "id": "ea191f02",
   "metadata": {},
   "outputs": [
    {
     "data": {
      "text/plain": [
       "array([[0.99221156, 0.61748151, 0.61165316],\n",
       "       [0.00706631, 0.02306243, 0.52477466]])"
      ]
     },
     "execution_count": 38,
     "metadata": {},
     "output_type": "execute_result"
    }
   ],
   "source": [
    "np.random.rand(2,3)"
   ]
  },
  {
   "cell_type": "code",
   "execution_count": 39,
   "id": "3997c3fa",
   "metadata": {},
   "outputs": [
    {
     "data": {
      "text/plain": [
       "2"
      ]
     },
     "execution_count": 39,
     "metadata": {},
     "output_type": "execute_result"
    }
   ],
   "source": [
    "np.random.randint(4)"
   ]
  },
  {
   "cell_type": "code",
   "execution_count": 40,
   "id": "a8707479",
   "metadata": {},
   "outputs": [
    {
     "data": {
      "text/plain": [
       "array([1, 3, 3, 3, 3, 2, 1, 1, 2, 1])"
      ]
     },
     "execution_count": 40,
     "metadata": {},
     "output_type": "execute_result"
    }
   ],
   "source": [
    "np.random.randint(4,size=10)"
   ]
  },
  {
   "cell_type": "code",
   "execution_count": 41,
   "id": "8c15199a",
   "metadata": {},
   "outputs": [
    {
     "data": {
      "text/plain": [
       "array([[3, 3, 1, 3, 1],\n",
       "       [3, 3, 1, 1, 3],\n",
       "       [2, 1, 2, 2, 2]])"
      ]
     },
     "execution_count": 41,
     "metadata": {},
     "output_type": "execute_result"
    }
   ],
   "source": [
    "np.random.randint(1,4,(3,5))"
   ]
  },
  {
   "cell_type": "code",
   "execution_count": 42,
   "id": "7303b6b7",
   "metadata": {},
   "outputs": [
    {
     "data": {
      "text/plain": [
       "-0.600638689918805"
      ]
     },
     "execution_count": 42,
     "metadata": {},
     "output_type": "execute_result"
    }
   ],
   "source": [
    "np.random.normal()"
   ]
  },
  {
   "cell_type": "code",
   "execution_count": 43,
   "id": "1024dc1d",
   "metadata": {},
   "outputs": [
    {
     "data": {
      "text/plain": [
       "array([-1.45846875, -3.00853306,  9.26139092])"
      ]
     },
     "execution_count": 43,
     "metadata": {},
     "output_type": "execute_result"
    }
   ],
   "source": [
    "np.random.normal(scale=5,size=3) #mean=0\n"
   ]
  },
  {
   "cell_type": "code",
   "execution_count": 44,
   "id": "3fc937de",
   "metadata": {},
   "outputs": [
    {
     "name": "stdout",
     "output_type": "stream",
     "text": [
      "99.52885522852107\n",
      "7.561812092690463\n"
     ]
    }
   ],
   "source": [
    "x=np.random.normal(100.,8.,size=100)\n",
    "print(np.mean(x))\n",
    "print(np.std(x,ddof=1))"
   ]
  },
  {
   "cell_type": "code",
   "execution_count": 45,
   "id": "d8bec01d",
   "metadata": {},
   "outputs": [],
   "source": [
    "np.random.gamma?"
   ]
  },
  {
   "cell_type": "code",
   "execution_count": 46,
   "id": "a9a498fc",
   "metadata": {},
   "outputs": [
    {
     "data": {
      "text/plain": [
       "array([-0.2247191 , -0.11235955,  2.07865169,  0.84269663])"
      ]
     },
     "execution_count": 46,
     "metadata": {},
     "output_type": "execute_result"
    }
   ],
   "source": [
    "import numpy as np\n",
    "A=np.array([[1,-2,0,0],[0,7,2,-4],[1,2,3,5],[1,2,5,6]])\n",
    "b=np.array([0,0,10,15])\n",
    "np.linalg.solve(A,b)"
   ]
  },
  {
   "cell_type": "code",
   "execution_count": null,
   "id": "0a05541f",
   "metadata": {},
   "outputs": [],
   "source": []
  }
 ],
 "metadata": {
  "kernelspec": {
   "display_name": "Python 3 (ipykernel)",
   "language": "python",
   "name": "python3"
  },
  "language_info": {
   "codemirror_mode": {
    "name": "ipython",
    "version": 3
   },
   "file_extension": ".py",
   "mimetype": "text/x-python",
   "name": "python",
   "nbconvert_exporter": "python",
   "pygments_lexer": "ipython3",
   "version": "3.11.1"
  }
 },
 "nbformat": 4,
 "nbformat_minor": 5
}
